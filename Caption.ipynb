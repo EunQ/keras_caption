{
 "cells": [
  {
   "cell_type": "code",
   "execution_count": 1,
   "metadata": {},
   "outputs": [
    {
     "name": "stderr",
     "output_type": "stream",
     "text": [
      "Using TensorFlow backend.\n"
     ]
    }
   ],
   "source": [
    "from config import config\n",
    "from data import preprocess \n",
    "from utils import utils\n",
    "from tensorflow.keras import models\n",
    "from tensorflow.keras import layers\n",
    "from tensorflow.keras import preprocessing\n",
    "from tensorflow.keras.preprocessing.text import Tokenizer\n",
    "from tensorflow.keras import Model\n",
    "from tensorflow.keras.preprocessing.sequence import pad_sequences\n",
    "from tensorflow.keras.utils import to_categorical\n",
    "import matplotlib.pyplot as plt\n",
    "import numpy as np\n",
    "import os\n",
    "from tensorflow.keras.applications.inception_v3 import InceptionV3\n",
    "import tensorflow as tf\n",
    "from tqdm import tqdm\n",
    "import pickle\n",
    "from keras.utils.vis_utils import plot_model\n",
    "captions_path = '.\\\\datasets\\\\captions.csv'\n",
    "img_dir_path = '.\\\\datasets\\\\images'\n",
    "start_tkn = \"starttkn\"\n",
    "end_tkn = \"endtkn\"\n"
   ]
  },
  {
   "cell_type": "code",
   "execution_count": 2,
   "metadata": {},
   "outputs": [
    {
     "name": "stdout",
     "output_type": "stream",
     "text": [
      ".\\datasets\\images .\\datasets\\captions.csv\n"
     ]
    },
    {
     "data": {
      "text/plain": [
       "<function data.preprocess.get_data_list(cap_path, start_tkn='<start>', end_tkn='<end>')>"
      ]
     },
     "execution_count": 2,
     "metadata": {},
     "output_type": "execute_result"
    }
   ],
   "source": [
    "print(\"{} {}\".format(img_dir_path, captions_path))\n",
    "preprocess.get_data_list"
   ]
  },
  {
   "cell_type": "code",
   "execution_count": 3,
   "metadata": {},
   "outputs": [
    {
     "data": {
      "text/plain": [
       "'./datasets/images/3571675421.jpg'"
      ]
     },
     "execution_count": 3,
     "metadata": {},
     "output_type": "execute_result"
    }
   ],
   "source": [
    "res  = preprocess.get_data_list(captions_path, start_tkn = \"starttkn\", end_tkn = \"endtkn\")\n",
    "res[0][0]"
   ]
  },
  {
   "cell_type": "code",
   "execution_count": 4,
   "metadata": {},
   "outputs": [],
   "source": [
    "image_list ,word_list = np.split(res, 2, 1)\n",
    "word_list = word_list.reshape(len(word_list))\n",
    "image_list = image_list.reshape(len(image_list))\n",
    "image_desc = {}"
   ]
  },
  {
   "cell_type": "code",
   "execution_count": 5,
   "metadata": {},
   "outputs": [],
   "source": [
    "max_len = 0\n",
    "image_desc = {}\n",
    "for data in zip(image_list, word_list):\n",
    "    img = data[0]\n",
    "    text = data[1]\n",
    "    if img not in image_desc:\n",
    "        image_desc[img] = []\n",
    "    image_desc[img].append(text)\n",
    "    max_len = max(max_len , len(text.split()))\n",
    "    #if len(text.split()) == max_len:\n",
    "    #    print(text)\n",
    "#image_desc"
   ]
  },
  {
   "cell_type": "code",
   "execution_count": 6,
   "metadata": {},
   "outputs": [],
   "source": [
    "max_words = 5000\n",
    "tokenizer = Tokenizer(num_words=max_words)"
   ]
  },
  {
   "cell_type": "code",
   "execution_count": 7,
   "metadata": {},
   "outputs": [],
   "source": [
    "tokenizer.fit_on_texts(word_list)"
   ]
  },
  {
   "cell_type": "code",
   "execution_count": 8,
   "metadata": {},
   "outputs": [],
   "source": [
    "word_list_vec = tokenizer.texts_to_sequences(word_list)\n",
    "word_list_vec = preprocessing.sequence.pad_sequences(word_list_vec , padding='post')"
   ]
  },
  {
   "cell_type": "code",
   "execution_count": 9,
   "metadata": {},
   "outputs": [],
   "source": [
    "# Find the maximum length of any caption in our dataset\n",
    "def calc_max_length(tensor):\n",
    "    return max(len(t) for t in tensor)"
   ]
  },
  {
   "cell_type": "code",
   "execution_count": 10,
   "metadata": {},
   "outputs": [],
   "source": [
    "max_words = max_words + 1"
   ]
  },
  {
   "cell_type": "code",
   "execution_count": 11,
   "metadata": {},
   "outputs": [],
   "source": [
    "tokenizer.word_index['<pad>'] = 0\n",
    "tokenizer.index_word[0] = '<pad>'"
   ]
  },
  {
   "cell_type": "code",
   "execution_count": 12,
   "metadata": {},
   "outputs": [],
   "source": [
    "max_len = calc_max_length(word_list_vec)"
   ]
  },
  {
   "cell_type": "code",
   "execution_count": 13,
   "metadata": {},
   "outputs": [
    {
     "data": {
      "text/plain": [
       "72"
      ]
     },
     "execution_count": 13,
     "metadata": {},
     "output_type": "execute_result"
    }
   ],
   "source": [
    "max_len"
   ]
  },
  {
   "cell_type": "code",
   "execution_count": 14,
   "metadata": {},
   "outputs": [],
   "source": [
    "word_index = tokenizer.word_index"
   ]
  },
  {
   "cell_type": "code",
   "execution_count": 15,
   "metadata": {},
   "outputs": [
    {
     "name": "stdout",
     "output_type": "stream",
     "text": [
      "1\n",
      "2\n"
     ]
    }
   ],
   "source": [
    "start_tkn_idx = tokenizer.word_index[start_tkn]\n",
    "print(start_tkn_idx)\n",
    "end_tkn_idx = tokenizer.word_index[end_tkn]\n",
    "print(end_tkn_idx)"
   ]
  },
  {
   "cell_type": "code",
   "execution_count": 16,
   "metadata": {},
   "outputs": [],
   "source": [
    "tokenizer.index_word[0] = ''"
   ]
  },
  {
   "cell_type": "code",
   "execution_count": 17,
   "metadata": {},
   "outputs": [],
   "source": [
    "encode_model = InceptionV3(weights='imagenet')\n",
    "encode_model = Model(encode_model.input, encode_model.layers[-2].output)\n",
    "WIDTH = 299\n",
    "HEIGHT = 299\n",
    "OUTPUT_DIM = 2048\n",
    "preprocess_input = tf.keras.applications.inception_v3.preprocess_input"
   ]
  },
  {
   "cell_type": "code",
   "execution_count": 18,
   "metadata": {},
   "outputs": [],
   "source": [
    "def encodeImage(img, output_dim):\n",
    "  # Resize all images to a standard size (specified bythe image encoding network)\n",
    "  #img = img.resize((width, height), Image.ANTIALIAS)\n",
    "  # Convert a PIL image to a numpy array\n",
    "  x = keras.preprocessing.image.img_to_array(img)\n",
    "  # Expand to 2D array\n",
    "  x = np.expand_dims(x, axis=0)\n",
    "  # Perform any preprocessing needed by InceptionV3 or others\n",
    "  x = preprocess_input(x)\n",
    "  # Call InceptionV3 (or other) to extract the smaller feature set for the image.\n",
    "  x = encode_model.predict(x) # Get the encoding vector for the image\n",
    "  #print(x.shape)\n",
    "  # Shape to correct form to be accepted by LSTM captioning network.\n",
    "  x = np.reshape(x, output_dim)\n",
    "  return x"
   ]
  },
  {
   "cell_type": "code",
   "execution_count": 19,
   "metadata": {},
   "outputs": [],
   "source": [
    "encoding_train_dict = {}\n",
    "encoding_path = \"./data/captions/encoding.pkl\"\n",
    "if not os.path.exists(encoding_path):\n",
    "    for img_path in image_list:\n",
    "        if img_path not in encoding_train_dict:\n",
    "            img = keras.preprocessing.image.load_img(img_path, target_size=(HEIGHT, WIDTH))\n",
    "            encoding_train_dict[img_path] = encodeImage(img,OUTPUT_DIM )\n",
    "    with open(encoding_path, \"wb\") as fp:\n",
    "        pickle.dump(encoding_train_dict, fp)\n",
    "else:\n",
    "    with open(encoding_path, \"rb\") as fp:\n",
    "        encoding_train_dict = pickle.load(fp)"
   ]
  },
  {
   "cell_type": "code",
   "execution_count": 20,
   "metadata": {},
   "outputs": [
    {
     "data": {
      "text/plain": [
       "2048"
      ]
     },
     "execution_count": 20,
     "metadata": {},
     "output_type": "execute_result"
    }
   ],
   "source": [
    "len(encoding_train_dict['./datasets/images/3653385929.jpg'])"
   ]
  },
  {
   "cell_type": "code",
   "execution_count": 21,
   "metadata": {},
   "outputs": [],
   "source": [
    "def data_gen(image_path_list, text_list):\n",
    "    n = 0\n",
    "    x1, x2, y = [], [] ,[]\n",
    "    cnt = 0\n",
    "    while True:\n",
    "        for train in zip(image_path_list, text_list):\n",
    "            n += 1\n",
    "            #print(cnt)\n",
    "            img = encoding_train_dict[train[0]]\n",
    "            seq = train[1]\n",
    "\n",
    "            for i in range(1, len(seq)):\n",
    "                in_seq, out_seq = seq[:i], seq[i]\n",
    "                #print(in_seq)\n",
    "                #print(len(in_seq))\n",
    "                in_seq = pad_sequences([in_seq], maxlen=max_len)[0]\n",
    "                #print(type(in_seq), len(in_seq), in_seq)\n",
    "                #print(out_seq)\n",
    "                out_seq = to_categorical([out_seq], num_classes=max_words)[0]\n",
    "                #print(out_seq)\n",
    "                x1.append(img)\n",
    "                x2.append(in_seq)\n",
    "                y.append(out_seq)\n",
    "\n",
    "                #print(tokenizer.sequences_to_texts([np.array(seq)]))\n",
    "                #print(tokenizer.sequences_to_texts([np.array(in_seq)]))\n",
    "                #print(idxtoword[seq[i]])\n",
    "\n",
    "            cnt = 0\n",
    "            yield ([np.array(x1), np.array(x2)], np.array(y))\n",
    "            n = 0\n",
    "            x1,x2,y = [], [] , []"
   ]
  },
  {
   "cell_type": "code",
   "execution_count": 22,
   "metadata": {
    "scrolled": true
   },
   "outputs": [],
   "source": [
    "train_desc = {}\n",
    "all_data_list = list(image_desc.keys())\n",
    "for i in range(0, 12000):\n",
    "    train_desc[all_data_list[i]] = image_desc[all_data_list[i]]"
   ]
  },
  {
   "cell_type": "code",
   "execution_count": 23,
   "metadata": {
    "scrolled": true
   },
   "outputs": [
    {
     "name": "stdout",
     "output_type": "stream",
     "text": [
      "158915 158915\n"
     ]
    }
   ],
   "source": [
    "print(len(image_list), len(word_list_vec))"
   ]
  },
  {
   "cell_type": "code",
   "execution_count": 24,
   "metadata": {},
   "outputs": [],
   "source": [
    "embedding_dim = 256\n",
    "input1 = layers.Input((OUTPUT_DIM, ), name = \"img_input\")\n",
    "img_layer = layers.Dense(256)(input1)\n",
    "img_layer = layers.BatchNormalization()(img_layer)\n",
    "img_layer = layers.Activation('relu')(img_layer)\n",
    "img_layer = layers.Dropout(0.3)(img_layer)\n",
    "\n",
    "\n",
    "input2 =  layers.Input((max_len, ), name = \"text_input\")\n",
    "#embedding = layers.BatchNormalization()(input2)\n",
    "embedding = layers.Embedding(output_dim=embedding_dim, input_dim=max_words, input_length=max_len)(input2)\n",
    "embedding = layers.LSTM(256)(embedding)\n",
    "embedding = layers.BatchNormalization()(embedding)\n",
    "embedding = layers.Activation('relu')(embedding)\n",
    "embedding = layers.Dropout(0.3)(embedding)\n",
    "\n",
    "added = layers.concatenate([img_layer, embedding])\n",
    "dec = layers.Dense(500)(added)\n",
    "dec = layers.BatchNormalization()(dec)\n",
    "dec = layers.Activation('relu')(dec)\n",
    "dec = layers.Dense(max_words, activation='softmax', name = \"output\")(dec)\n",
    "#output = layers.Dense(NUM_WORDS, activation='softmax')(dec)\n",
    "\n",
    "model = Model(inputs = [input1, input2] , outputs =  dec)"
   ]
  },
  {
   "cell_type": "code",
   "execution_count": 25,
   "metadata": {},
   "outputs": [
    {
     "name": "stdout",
     "output_type": "stream",
     "text": [
      "Model: \"model_1\"\n",
      "__________________________________________________________________________________________________\n",
      "Layer (type)                    Output Shape         Param #     Connected to                     \n",
      "==================================================================================================\n",
      "text_input (InputLayer)         [(None, 72)]         0                                            \n",
      "__________________________________________________________________________________________________\n",
      "img_input (InputLayer)          [(None, 2048)]       0                                            \n",
      "__________________________________________________________________________________________________\n",
      "embedding (Embedding)           (None, 72, 256)      1280256     text_input[0][0]                 \n",
      "__________________________________________________________________________________________________\n",
      "dense (Dense)                   (None, 256)          524544      img_input[0][0]                  \n",
      "__________________________________________________________________________________________________\n",
      "lstm (LSTM)                     (None, 256)          525312      embedding[0][0]                  \n",
      "__________________________________________________________________________________________________\n",
      "batch_normalization_94 (BatchNo (None, 256)          1024        dense[0][0]                      \n",
      "__________________________________________________________________________________________________\n",
      "batch_normalization_95 (BatchNo (None, 256)          1024        lstm[0][0]                       \n",
      "__________________________________________________________________________________________________\n",
      "activation_94 (Activation)      (None, 256)          0           batch_normalization_94[0][0]     \n",
      "__________________________________________________________________________________________________\n",
      "activation_95 (Activation)      (None, 256)          0           batch_normalization_95[0][0]     \n",
      "__________________________________________________________________________________________________\n",
      "dropout (Dropout)               (None, 256)          0           activation_94[0][0]              \n",
      "__________________________________________________________________________________________________\n",
      "dropout_1 (Dropout)             (None, 256)          0           activation_95[0][0]              \n",
      "__________________________________________________________________________________________________\n",
      "concatenate_2 (Concatenate)     (None, 512)          0           dropout[0][0]                    \n",
      "                                                                 dropout_1[0][0]                  \n",
      "__________________________________________________________________________________________________\n",
      "dense_1 (Dense)                 (None, 500)          256500      concatenate_2[0][0]              \n",
      "__________________________________________________________________________________________________\n",
      "batch_normalization_96 (BatchNo (None, 500)          2000        dense_1[0][0]                    \n",
      "__________________________________________________________________________________________________\n",
      "activation_96 (Activation)      (None, 500)          0           batch_normalization_96[0][0]     \n",
      "__________________________________________________________________________________________________\n",
      "output (Dense)                  (None, 5001)         2505501     activation_96[0][0]              \n",
      "==================================================================================================\n",
      "Total params: 5,096,161\n",
      "Trainable params: 5,094,137\n",
      "Non-trainable params: 2,024\n",
      "__________________________________________________________________________________________________\n"
     ]
    }
   ],
   "source": [
    "model.summary()"
   ]
  },
  {
   "cell_type": "code",
   "execution_count": 26,
   "metadata": {},
   "outputs": [],
   "source": [
    "model.compile(loss='categorical_crossentropy', optimizer='adam', metrics=['accuracy'])"
   ]
  },
  {
   "cell_type": "code",
   "execution_count": 27,
   "metadata": {},
   "outputs": [
    {
     "data": {
      "image/png": "[encoded data removed]",
      "text/plain": [
       "<IPython.core.display.Image object>"
      ]
     },
     "execution_count": 27,
     "metadata": {},
     "output_type": "execute_result"
    }
   ],
   "source": [
    "from IPython.display import SVG\n",
    "import tensorflow as tf\n",
    "\n",
    "%matplotlib inline\n",
    "#pydot.\n",
    "tf.keras.utils.plot_model(model, to_file='model_plot.png', show_shapes=True, show_layer_names=True)"
   ]
  },
  {
   "cell_type": "code",
   "execution_count": 28,
   "metadata": {},
   "outputs": [
    {
     "data": {
      "text/plain": [
       "31783"
      ]
     },
     "execution_count": 28,
     "metadata": {},
     "output_type": "execute_result"
    }
   ],
   "source": [
    "len(image_desc)"
   ]
  },
  {
   "cell_type": "code",
   "execution_count": 29,
   "metadata": {},
   "outputs": [
    {
     "name": "stdout",
     "output_type": "stream",
     "text": [
      "3 4000\n"
     ]
    }
   ],
   "source": [
    "num_photos_per_batch = 3\n",
    "steps = len(train_desc)//num_photos_per_batch\n",
    "print(num_photos_per_batch, steps)"
   ]
  },
  {
   "cell_type": "code",
   "execution_count": 30,
   "metadata": {},
   "outputs": [],
   "source": [
    "#gen = data_gen(train_desc, num_photos_per_batch)\n",
    "early_stopping = tf.keras.callbacks.EarlyStopping()\n"
   ]
  },
  {
   "cell_type": "code",
   "execution_count": null,
   "metadata": {},
   "outputs": [
    {
     "name": "stderr",
     "output_type": "stream",
     "text": [
      "\r",
      "  0%|                                                                                            | 0/2 [00:00<?, ?it/s]"
     ]
    },
    {
     "name": "stdout",
     "output_type": "stream",
     "text": [
      "WARNING:tensorflow:From <ipython-input-31-97f8b0b403e1>:4: Model.fit_generator (from tensorflow.python.keras.engine.training) is deprecated and will be removed in a future version.\n",
      "Instructions for updating:\n",
      "Please use Model.fit, which supports generators.\n",
      "WARNING:tensorflow:sample_weight modes were coerced from\n",
      "  ...\n",
      "    to  \n",
      "  ['...']\n",
      "WARNING:tensorflow:Using a generator with `use_multiprocessing=True` and multiple workers may duplicate your data. Please consider using the `tf.data.Dataset`.\n",
      "Train for 4000 steps\n",
      "Epoch 1/2\n",
      "WARNING:tensorflow:multiprocessing can interact badly with TensorFlow, causing nondeterministic deadlocks. For high performance data pipelines tf.data is recommended.\n"
     ]
    }
   ],
   "source": [
    "EPOCHS = 2\n",
    "gen = data_gen(image_list, word_list_vec )\n",
    "for i in tqdm(range(EPOCHS)) :\n",
    "    model.fit_generator(gen, epochs=2, steps_per_epoch=steps, use_multiprocessing=True)\n",
    "    "
   ]
  },
  {
   "cell_type": "code",
   "execution_count": null,
   "metadata": {},
   "outputs": [],
   "source": [
    "model.save(os.path.join(add_path,'cap_model.h5'))"
   ]
  },
  {
   "cell_type": "code",
   "execution_count": null,
   "metadata": {},
   "outputs": [],
   "source": [
    "image_list_path = \"./data/captions/image_list.pkl\"\n",
    "with open(image_list_path, \"wb\") as fp:\n",
    "    pickle.dump(image_list, fp)\n",
    "encoding_train_dict_path = \"./data/captions/encoding_train_dict.pkl\"\n",
    "with open(encoding_train_dict_path, \"wb\") as fp:\n",
    "    pickle.dump(encoding_train_dict, fp)\n",
    "tokenizer_path = \"./data/captions/tokenizer.pkl\"\n",
    "with open(tokenizer_path, \"wb\") as fp:\n",
    "    pickle.dump(tokenizer, fp)\n",
    "image_desc_path = \"./data/captions/image_desc.pkl\"\n",
    "with open(image_desc_path, \"wb\") as fp:\n",
    "    pickle.dump(image_desc, fp)"
   ]
  },
  {
   "cell_type": "code",
   "execution_count": null,
   "metadata": {},
   "outputs": [],
   "source": [
    "START = \"starttkn\"\n",
    "STOP = \"endtkn\""
   ]
  },
  {
   "cell_type": "code",
   "execution_count": null,
   "metadata": {},
   "outputs": [],
   "source": [
    "idxtoword = tokenizer.index_word\n",
    "wordtoidx = tokenizer.word_index\n",
    "#idxtoword"
   ]
  },
  {
   "cell_type": "code",
   "execution_count": null,
   "metadata": {},
   "outputs": [],
   "source": [
    "def generateCaption(photo):\n",
    "    in_text = START\n",
    "    for i in range(20):\n",
    "        sequence = [wordtoidx[w] for w in in_text.split() if w in wordtoidx]\n",
    "        sequence = preprocessing.sequence.pad_sequences([sequence], maxlen=max_len)\n",
    "        #print(tokenizer.sequences_to_texts(sequence))\n",
    "        #print(sequence)\n",
    "        yhat = model.predict([photo,sequence], verbose=0)\n",
    "        yhat = np.argmax(yhat)\n",
    "        print(yhat)\n",
    "        #print(yhat)\n",
    "        word = idxtoword[yhat]\n",
    "        #print('predict word : ', word)\n",
    "        in_text += ' ' + word\n",
    "        if word == STOP:\n",
    "            break\n",
    "    final = in_text.split()\n",
    "    final = final[1:-1]\n",
    "    final = ' '.join(final)\n",
    "    return final"
   ]
  },
  {
   "cell_type": "code",
   "execution_count": null,
   "metadata": {},
   "outputs": [],
   "source": [
    "for z in range(1):\n",
    "  pic = list(encoding_train_dict.keys())[z]\n",
    "  image = encoding_train_dict[pic].reshape((1,OUTPUT_DIM))\n",
    "  print(pic)\n",
    "  x=plt.imread(pic)\n",
    "  plt.imshow(x)\n",
    "  plt.show()\n",
    "  print(\"Caption:\",generateCaption(image))\n",
    "  print(\"_____________________________________\")"
   ]
  },
  {
   "cell_type": "code",
   "execution_count": null,
   "metadata": {},
   "outputs": [],
   "source": [
    "import winsound as ws\n",
    "\n",
    "def beepsound():\n",
    "    freq = 2000    # range : 37 ~ 32767\n",
    "    dur = 500     # ms\n",
    "    ws.Beep(freq, dur) # winsound.Beep(frequency, duration)\n",
    "    ws.Beep(freq, dur) # winsound.Beep(frequency, duration)\n",
    "\n",
    "print(beepsound())"
   ]
  },
  {
   "cell_type": "code",
   "execution_count": null,
   "metadata": {},
   "outputs": [],
   "source": []
  }
 ],
 "metadata": {
  "kernelspec": {
   "display_name": "Python 3",
   "language": "python",
   "name": "python3"
  },
  "language_info": {
   "codemirror_mode": {
    "name": "ipython",
    "version": 3
   },
   "file_extension": ".py",
   "mimetype": "text/x-python",
   "name": "python",
   "nbconvert_exporter": "python",
   "pygments_lexer": "ipython3",
   "version": "3.7.6"
  }
 },
 "nbformat": 4,
 "nbformat_minor": 4
}
